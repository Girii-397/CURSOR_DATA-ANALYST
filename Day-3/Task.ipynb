{
 "cells": [
  {
   "cell_type": "code",
   "execution_count": 1,
   "metadata": {},
   "outputs": [
    {
     "name": "stdout",
     "output_type": "stream",
     "text": [
      "Requirement already satisfied: opendatasets in c:\\users\\giriprasadmungara\\tutorial\\open-llm\\lib\\site-packages (0.1.22)"
     ]
    },
    {
     "name": "stderr",
     "output_type": "stream",
     "text": [
      "\n",
      "[notice] A new release of pip is available: 24.2 -> 24.3.1\n",
      "[notice] To update, run: python.exe -m pip install --upgrade pip\n"
     ]
    },
    {
     "name": "stdout",
     "output_type": "stream",
     "text": [
      "\n",
      "Requirement already satisfied: tqdm in c:\\users\\giriprasadmungara\\tutorial\\open-llm\\lib\\site-packages (from opendatasets) (4.67.0)\n",
      "Requirement already satisfied: kaggle in c:\\users\\giriprasadmungara\\tutorial\\open-llm\\lib\\site-packages (from opendatasets) (1.6.17)\n",
      "Requirement already satisfied: click in c:\\users\\giriprasadmungara\\tutorial\\open-llm\\lib\\site-packages (from opendatasets) (8.1.7)\n",
      "Requirement already satisfied: colorama in c:\\users\\giriprasadmungara\\tutorial\\open-llm\\lib\\site-packages (from click->opendatasets) (0.4.6)\n",
      "Requirement already satisfied: six>=1.10 in c:\\users\\giriprasadmungara\\tutorial\\open-llm\\lib\\site-packages (from kaggle->opendatasets) (1.16.0)\n",
      "Requirement already satisfied: certifi>=2023.7.22 in c:\\users\\giriprasadmungara\\tutorial\\open-llm\\lib\\site-packages (from kaggle->opendatasets) (2024.8.30)\n",
      "Requirement already satisfied: python-dateutil in c:\\users\\giriprasadmungara\\tutorial\\open-llm\\lib\\site-packages (from kaggle->opendatasets) (2.9.0.post0)\n",
      "Requirement already satisfied: requests in c:\\users\\giriprasadmungara\\tutorial\\open-llm\\lib\\site-packages (from kaggle->opendatasets) (2.32.3)\n",
      "Requirement already satisfied: python-slugify in c:\\users\\giriprasadmungara\\tutorial\\open-llm\\lib\\site-packages (from kaggle->opendatasets) (8.0.4)\n",
      "Requirement already satisfied: urllib3 in c:\\users\\giriprasadmungara\\tutorial\\open-llm\\lib\\site-packages (from kaggle->opendatasets) (2.2.3)\n",
      "Requirement already satisfied: bleach in c:\\users\\giriprasadmungara\\tutorial\\open-llm\\lib\\site-packages (from kaggle->opendatasets) (6.2.0)\n",
      "Requirement already satisfied: webencodings in c:\\users\\giriprasadmungara\\tutorial\\open-llm\\lib\\site-packages (from bleach->kaggle->opendatasets) (0.5.1)\n",
      "Requirement already satisfied: text-unidecode>=1.3 in c:\\users\\giriprasadmungara\\tutorial\\open-llm\\lib\\site-packages (from python-slugify->kaggle->opendatasets) (1.3)\n",
      "Requirement already satisfied: charset-normalizer<4,>=2 in c:\\users\\giriprasadmungara\\tutorial\\open-llm\\lib\\site-packages (from requests->kaggle->opendatasets) (3.4.0)\n",
      "Requirement already satisfied: idna<4,>=2.5 in c:\\users\\giriprasadmungara\\tutorial\\open-llm\\lib\\site-packages (from requests->kaggle->opendatasets) (3.10)\n"
     ]
    }
   ],
   "source": [
    "!pip install opendatasets\n"
   ]
  },
  {
   "cell_type": "code",
   "execution_count": 2,
   "metadata": {},
   "outputs": [],
   "source": [
    "import opendatasets as od\n"
   ]
  },
  {
   "cell_type": "code",
   "execution_count": null,
   "metadata": {},
   "outputs": [],
   "source": [
    "!pip install kagglehub pandas scipy\n",
    "\n",
    "import kagglehub\n",
    "import os\n",
    "import pandas as pd\n",
    "from scipy import stats\n",
    "\n",
    "# Download latest version\n",
    "path = kagglehub.dataset_download(\"rahmasleam/flowers-dataset\")\n",
    "\n",
    "print(\"Path to dataset files:\", path)\n",
    "\n",
    "# Construct the file path\n",
    "# Assuming the CSV file is within a 'flowers' subdirectory and named 'flowers.csv'\n",
    "file_path = os.path.join(path, \"flowers\", \"flowers.csv\") \n",
    "\n",
    "# Read the data into a pandas DataFrame\n",
    "try:\n",
    "    data = pd.read_csv(file_path)  \n",
    "except FileNotFoundError:\n",
    "    print(f\"Error: File not found at {file_path}\")\n",
    "    # Let's print the contents of the downloaded directory to help diagnose\n",
    "    print(f\"Files in the downloaded directory: {os.listdir(path)}\")  \n",
    "    print(\"Please check the directory structure and file name.\")\n",
    "    exit(1)\n",
    "\n",
    "# Save the data to a new CSV file\n",
    "save_path = 'flowers_data.csv' \n",
    "data.to_csv(save_path, index=False)  \n",
    "\n",
    "print(f\"Data saved to {save_path}\") # Confirmation message\n",
    "\n",
    "# Further analysis (if needed):\n",
    "# ... (Your existing code for calculating mean, median, mode)"
   ]
  }
 ],
 "metadata": {
  "kernelspec": {
   "display_name": "open-llm",
   "language": "python",
   "name": "python3"
  },
  "language_info": {
   "codemirror_mode": {
    "name": "ipython",
    "version": 3
   },
   "file_extension": ".py",
   "mimetype": "text/x-python",
   "name": "python",
   "nbconvert_exporter": "python",
   "pygments_lexer": "ipython3",
   "version": "3.12.7"
  }
 },
 "nbformat": 4,
 "nbformat_minor": 2
}
